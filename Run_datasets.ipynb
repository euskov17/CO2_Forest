{
 "cells": [
  {
   "cell_type": "code",
   "execution_count": null,
   "id": "aLHL1m2jjmM0",
   "metadata": {
    "colab": {
     "base_uri": "https://localhost:8080/"
    },
    "id": "aLHL1m2jjmM0",
    "outputId": "276f4cd2-7d42-4684-cffe-ece7e6fc9a4b"
   },
   "outputs": [],
   "source": [
    "! pip install nbimporter\n",
    "! pip install stree"
   ]
  },
  {
   "cell_type": "code",
   "execution_count": null,
   "id": "4cb0be10",
   "metadata": {
    "id": "4cb0be10"
   },
   "outputs": [],
   "source": [
    "import nbimporter\n",
    "import time\n",
    "import joblib\n",
    "\n",
    "from sklearn.model_selection import GridSearchCV, StratifiedKFold\n",
    "from sklearn.ensemble import RandomForestClassifier\n",
    "from sklearn.metrics import accuracy_score\n",
    "from Package import co2_forest\n",
    "\n",
    "# import your notebook with your datasets"
   ]
  },
  {
   "cell_type": "code",
   "execution_count": null,
   "id": "6584a264",
   "metadata": {
    "id": "6584a264"
   },
   "outputs": [],
   "source": [
    "def Run_RF(data, name, param_grid={}):\n",
    "    \"\"\"Call Grid Search with RandomForestClassifier: return accuracy score and prints time\"\"\"\n",
    "    x_train, y_train, x_test, y_test = data \n",
    "    if param_grid:\n",
    "        rf = GridSearchCV(RandomForestClassifier(random_state=0, n_jobs=-1), \n",
    "                                param_grid, \n",
    "                                scoring=\"accuracy\",\n",
    "                                n_jobs=-1,\n",
    "                                cv=StratifiedKFold(n_splits=3, random_state=0, shuffle=True))\n",
    "    else:\n",
    "        rf = RandomForestClassifier(random_state=0, n_jobs=-1)\n",
    "    start = time.time()\n",
    "    rf.fit(x_train, y_train)\n",
    "    end = time.time()\n",
    "    y_pred = rf.predict(x_test)\n",
    "    joblib.dump(rf, name + \"_rf.joblib\")\n",
    "    return accuracy_score(y_test, y_pred), end - start\n",
    "\n",
    "def Run_CO2_forest(data, name, params_co2, param_grid={}):\n",
    "    \"\"\"Call Grid Search with CO2_Forest: return accuracy score and time to fit\"\"\"\n",
    "    x_train, y_train, x_test, y_test = data \n",
    "    if param_grid:\n",
    "        co2_f = GridSearchCV(co2_forest.CO2_forest(n_jobs=-1, **params_co2),\n",
    "                                 param_grid,\n",
    "                                 scoring=\"accuracy\",\n",
    "                                 n_jobs=-1,\n",
    "                                 cv=StratifiedKFold(n_splits=3, random_state=0, shuffle=True))\n",
    "    else:\n",
    "        co2_f = co2_forest.CO2_forest(n_jobs=-1, **params_co2)\n",
    "    start = time.time()\n",
    "    co2_f.fit(x_train, y_train)\n",
    "    end = time.time()\n",
    "    joblib.dump(co2_f, name + \"_co2.joblib\")\n",
    "    y_pred = co2_f.predict(x_test)\n",
    "    return accuracy_score(y_test, y_pred), end - start\n",
    "\n",
    "\n",
    "def BenchMarks(DatasetName, name, mode=\"all\", *, params_co2={\"n_estimators\": 10,\n",
    "                                                             \"max_features\": \"log2\",\n",
    "                                                             \"max_depth\": 20,\n",
    "                                                             \"min_samples_split\":100}, \n",
    "               param_grid_rf={\n",
    "                    'max_depth': [5, 20, 50],\n",
    "                    'min_samples_leaf': [10, 30, 50, 100],\n",
    "                    'min_samples_split': [40, 70, 100]\n",
    "                }, \n",
    "               param_grid_co2={}):\n",
    "    \"\"\"\n",
    "    Call rf or co2_forest and return accuracy scores\n",
    "    mode: could be all, rf, co2\n",
    "    \"\"\"\n",
    "    if mode not in [\"all\", \"rf\", \"co2\"]:\n",
    "        return None\n",
    "    data = DatasetName.load().prepare()\n",
    "    \n",
    "    result = {\"rf\": None, \"co2\": None}\n",
    "    \n",
    "    if mode in [\"all\", \"co2\"]:\n",
    "        print(\"Run co2\")\n",
    "        result[\"co2\"] = Run_CO2_forest(data, name, params_co2, param_grid_co2)\n",
    "    \n",
    "    \n",
    "    if mode in [\"all\", \"rf\"]:\n",
    "        print(\"Run rf\")\n",
    "        result[\"rf\"] = Run_RF(data, name, param_grid_rf)\n",
    "    \n",
    "    del data\n",
    "    return result"
   ]
  },
  {
   "cell_type": "code",
   "execution_count": null,
   "id": "ccb72e1e",
   "metadata": {
    "id": "ccb72e1e"
   },
   "outputs": [],
   "source": [
    "def Test_dataset(name=None, dataSet=None):\n",
    "    print('-' * 30)\n",
    "    print(name)\n",
    "    print()\n",
    "    result = BenchMarks(dataSet.DatasetName, name, \"all\")\n",
    "    print(\"RandomForest accuracy: \", result[\"rf\"][0],  \"  time: \", result[\"rf\"][1])\n",
    "    print(\"CO2_Forest accuracy: \", result[\"co2\"][0], \"  time: \", result[\"co2\"][1])\n",
    "    print()\n",
    "    print('-' * 30)\n",
    "    print()"
   ]
  },
  {
   "cell_type": "code",
   "execution_count": null,
   "id": "e5ee327d",
   "metadata": {
    "id": "e5ee327d"
   },
   "outputs": [],
   "source": [
    "# Example: you have notebook: My_nodebook and dataset with som name like weather\n",
    "# you can call like this: \n",
    "# Test_dataset(\"weather\", My_notebook)\n",
    "# after running in your command panel you will see accuracy_score and fit time.\n",
    "# also in your repository you will see joblib files with rf and co2 models."
   ]
  },
  {
   "cell_type": "code",
   "execution_count": null,
   "id": "2ca7e112",
   "metadata": {},
   "outputs": [],
   "source": [
    "# import Santander\n",
    "\n",
    "# Test_dataset(\"Santander\", Santander)"
   ]
  }
 ],
 "metadata": {
  "colab": {
   "history_visible": true,
   "provenance": []
  },
  "kernelspec": {
   "display_name": "Python 3 (ipykernel)",
   "language": "python",
   "name": "python3"
  },
  "language_info": {
   "codemirror_mode": {
    "name": "ipython",
    "version": 3
   },
   "file_extension": ".py",
   "mimetype": "text/x-python",
   "name": "python",
   "nbconvert_exporter": "python",
   "pygments_lexer": "ipython3",
   "version": "3.9.13"
  },
  "vscode": {
   "interpreter": {
    "hash": "3b7e9cb8e453d6cda0fe8c8dd13f891a1f09162f0e7c66ffeae7751a7aecf00d"
   }
  }
 },
 "nbformat": 4,
 "nbformat_minor": 5
}
